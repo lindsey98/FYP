{
 "cells": [
  {
   "cell_type": "code",
   "execution_count": 1,
   "metadata": {},
   "outputs": [],
   "source": [
    "import os\n",
    "os.chdir('..')"
   ]
  },
  {
   "cell_type": "code",
   "execution_count": 4,
   "metadata": {},
   "outputs": [],
   "source": [
    "import torch\n",
    "from torch import nn\n",
    "import torch.nn.functional as F\n",
    "from collections import OrderedDict\n",
    "import numpy as np\n",
    "from torch.nn import init\n",
    "import itertools\n",
    "from src.model import *\n",
    "from src.dataset import *\n",
    "from tqdm import tqdm\n",
    "import pickle\n",
    "import random\n",
    "from itertools import combinations\n",
    "from sklearn.preprocessing import StandardScaler, MaxAbsScaler\n",
    "from scipy.spatial.distance import pdist, squareform\n",
    "from sklearn.metrics.pairwise import rbf_kernel, cosine_similarity\n",
    "from sklearn.metrics import pairwise_distances"
   ]
  },
  {
   "cell_type": "code",
   "execution_count": 5,
   "metadata": {},
   "outputs": [],
   "source": [
    "device = 'cuda'"
   ]
  },
  {
   "cell_type": "markdown",
   "metadata": {},
   "source": [
    "## Register hook"
   ]
  },
  {
   "cell_type": "code",
   "execution_count": 6,
   "metadata": {},
   "outputs": [],
   "source": [
    "##### HELPER FUNCTION FOR FEATURE EXTRACTION\n",
    "def get_features(name):\n",
    "    def hook(model, input, output):\n",
    "        features[name] = output.detach()\n",
    "    return hook"
   ]
  },
  {
   "cell_type": "code",
   "execution_count": 62,
   "metadata": {
    "scrolled": true
   },
   "outputs": [
    {
     "data": {
      "text/plain": [
       "ChildModel(\n",
       "  (body): Sequential(\n",
       "    (cnn1): Sequential(\n",
       "      (conv): Conv2d(3, 9, kernel_size=(3, 3), stride=(1, 1), padding=(1, 1))\n",
       "      (relu): ReLU(inplace=True)\n",
       "      (pool): MaxPool2d(kernel_size=2, stride=2, padding=0, dilation=1, ceil_mode=False)\n",
       "    )\n",
       "    (cnn2): Sequential(\n",
       "      (conv): Conv2d(9, 8, kernel_size=(3, 3), stride=(1, 1), padding=(1, 1))\n",
       "      (relu): ReLU(inplace=True)\n",
       "      (pool): MaxPool2d(kernel_size=2, stride=2, padding=0, dilation=1, ceil_mode=False)\n",
       "    )\n",
       "    (cnn3): Sequential(\n",
       "      (conv): Conv2d(8, 13, kernel_size=(3, 3), stride=(1, 1), padding=(1, 1))\n",
       "      (relu): ReLU(inplace=True)\n",
       "      (pool): MaxPool2d(kernel_size=2, stride=2, padding=0, dilation=1, ceil_mode=False)\n",
       "    )\n",
       "  )\n",
       "  (head): Sequential(\n",
       "    (dense): Sequential(\n",
       "      (fc1): Conv2d(208, 32, kernel_size=(1, 1), stride=(1, 1))\n",
       "      (relu): ReLU(inplace=True)\n",
       "      (fc2): Conv2d(32, 10, kernel_size=(1, 1), stride=(1, 1))\n",
       "    )\n",
       "  )\n",
       ")"
      ]
     },
     "execution_count": 62,
     "metadata": {},
     "output_type": "execute_result"
    }
   ],
   "source": [
    "# model = BaseModel()\n",
    "# model.load_state_dict(torch.load('./checkpoints/CIFAR17_add000000-CIFAR10-model1/199.pt'))\n",
    "\n",
    "model = ChildModel(extra_filter = [1, 0, 5])\n",
    "model.load_state_dict(torch.load('./checkpoints/CIFAR17_add010005-CIFAR10-model1/199.pt'))\n",
    "\n",
    "model.body.cnn1.register_forward_hook(get_features('cnn1'))\n",
    "model.body.cnn2.register_forward_hook(get_features('cnn2'))\n",
    "model.body.cnn3.register_forward_hook(get_features('cnn3'))\n",
    "\n",
    "model.head.dense.fc1.register_forward_hook(get_features('fc1'))\n",
    "model.head.dense.fc2.register_forward_hook(get_features('fc2'))\n",
    "\n",
    "model.to(device)"
   ]
  },
  {
   "cell_type": "code",
   "execution_count": null,
   "metadata": {},
   "outputs": [],
   "source": [
    "# # test on random tensor\n",
    "# x = torch.randn((1, 3, 32, 32))\n",
    "\n",
    "# # placeholder for batch features\n",
    "# features = {}\n",
    "# output = model(x)\n",
    "\n",
    "# features['fc1']"
   ]
  },
  {
   "cell_type": "markdown",
   "metadata": {},
   "source": [
    "## Get intermediate representation for all training data"
   ]
  },
  {
   "cell_type": "code",
   "execution_count": 7,
   "metadata": {},
   "outputs": [
    {
     "name": "stdout",
     "output_type": "stream",
     "text": [
      "Files already downloaded and verified\n"
     ]
    }
   ],
   "source": [
    "train_data_loader = data_loader(dataset_name = 'CIFAR10', \n",
    "                                batch_size = 128, \n",
    "                                train=True)"
   ]
  },
  {
   "cell_type": "code",
   "execution_count": 14,
   "metadata": {},
   "outputs": [],
   "source": [
    "# Total training is 50K, too many, downsample 10K, run only ONCE\n",
    "random.seed(1234)\n",
    "subsample_id = random.sample(range(len(train_data_loader.dataset)), 10000)\n",
    "\n",
    "np.save('subsample_train', subsample_id)"
   ]
  },
  {
   "cell_type": "code",
   "execution_count": 63,
   "metadata": {},
   "outputs": [
    {
     "name": "stdout",
     "output_type": "stream",
     "text": [
      "Files already downloaded and verified\n"
     ]
    }
   ],
   "source": [
    "# Directly load the pre-computed subsampled data\n",
    "subsample_id = np.load('subsample_train.npy')\n",
    "\n",
    "subtrain_data_loader = data_loader(dataset_name = 'CIFAR10', \n",
    "                                batch_size = 128, \n",
    "                                train=True,\n",
    "                                subsample_id=subsample_id)"
   ]
  },
  {
   "cell_type": "code",
   "execution_count": 79,
   "metadata": {},
   "outputs": [
    {
     "name": "stderr",
     "output_type": "stream",
     "text": [
      "100%|██████████| 79/79 [00:04<00:00, 18.87it/s]\n"
     ]
    }
   ],
   "source": [
    "##### FEATURE EXTRACTION LOOP\n",
    "\n",
    "# placeholders\n",
    "LABELS = []\n",
    "FEATS = {}\n",
    "\n",
    "# loop through batches\n",
    "for inputs, targets in tqdm(subtrain_data_loader):\n",
    "\n",
    "    # move to device\n",
    "    inputs = inputs.to(device)\n",
    "    \n",
    "    # placeholder for batch features\n",
    "    features = {}\n",
    "       \n",
    "    # forward pass [with feature extraction]\n",
    "    preds = model(inputs)\n",
    "    \n",
    "    # add labels to list\n",
    "    LABELS.extend(targets.numpy())\n",
    "    \n",
    "    # add feats to lists\n",
    "    for k in features.keys():\n",
    "        if k not in FEATS.keys():\n",
    "            FEATS[k] = features[k].cpu().numpy()\n",
    "        else:\n",
    "            FEATS[k] = np.concatenate((FEATS[k], features[k].cpu().numpy()), axis=0)\n",
    "            \n",
    "LABELS = np.asarray(LABELS)"
   ]
  },
  {
   "cell_type": "code",
   "execution_count": 80,
   "metadata": {
    "pycharm": {
     "name": "#%%\n"
    }
   },
   "outputs": [],
   "source": [
    "with open('checkpoints/CIFAR17_add010005-CIFAR10-model1/feat_representation.pkl', 'wb') as handle:\n",
    "    pickle.dump(FEATS, handle)\n",
    "\n",
    "with open('checkpoints/CIFAR17_add010005-CIFAR10-model1/label.pkl', 'wb') as handle:\n",
    "    pickle.dump(LABELS, handle)"
   ]
  }
 ],
 "metadata": {
  "kernelspec": {
   "display_name": "Python 3",
   "language": "python",
   "name": "python3"
  },
  "language_info": {
   "codemirror_mode": {
    "name": "ipython",
    "version": 3
   },
   "file_extension": ".py",
   "mimetype": "text/x-python",
   "name": "python",
   "nbconvert_exporter": "python",
   "pygments_lexer": "ipython3",
   "version": "3.7.7"
  },
  "latex_envs": {
   "LaTeX_envs_menu_present": true,
   "autoclose": false,
   "autocomplete": true,
   "bibliofile": "biblio.bib",
   "cite_by": "apalike",
   "current_citInitial": 1,
   "eqLabelWithNumbers": true,
   "eqNumInitial": 1,
   "hotkeys": {
    "equation": "Ctrl-E",
    "itemize": "Ctrl-I"
   },
   "labels_anchors": false,
   "latex_user_defs": false,
   "report_style_numbering": false,
   "user_envs_cfg": false
  },
  "toc": {
   "base_numbering": 1,
   "nav_menu": {},
   "number_sections": true,
   "sideBar": true,
   "skip_h1_title": false,
   "title_cell": "Table of Contents",
   "title_sidebar": "Contents",
   "toc_cell": false,
   "toc_position": {},
   "toc_section_display": true,
   "toc_window_display": false
  },
  "varInspector": {
   "cols": {
    "lenName": 16,
    "lenType": 16,
    "lenVar": 40
   },
   "kernels_config": {
    "python": {
     "delete_cmd_postfix": "",
     "delete_cmd_prefix": "del ",
     "library": "var_list.py",
     "varRefreshCmd": "print(var_dic_list())"
    },
    "r": {
     "delete_cmd_postfix": ") ",
     "delete_cmd_prefix": "rm(",
     "library": "var_list.r",
     "varRefreshCmd": "cat(var_dic_list()) "
    }
   },
   "types_to_exclude": [
    "module",
    "function",
    "builtin_function_or_method",
    "instance",
    "_Feature"
   ],
   "window_display": false
  },
  "pycharm": {
   "stem_cell": {
    "cell_type": "raw",
    "source": [],
    "metadata": {
     "collapsed": false
    }
   }
  }
 },
 "nbformat": 4,
 "nbformat_minor": 4
}